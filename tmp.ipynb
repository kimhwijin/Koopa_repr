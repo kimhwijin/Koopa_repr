{
 "cells": [
  {
   "cell_type": "code",
   "execution_count": 2,
   "metadata": {},
   "outputs": [
    {
     "data": {
      "text/plain": [
       "models.Koopa.Model"
      ]
     },
     "execution_count": 2,
     "metadata": {},
     "output_type": "execute_result"
    }
   ],
   "source": [
    "from models import Koopa\n",
    "\n",
    "Koopa.Model"
   ]
  },
  {
   "cell_type": "code",
   "execution_count": 5,
   "metadata": {},
   "outputs": [],
   "source": [
    "import math\n",
    "import torch\n",
    "import torch.nn as nn\n",
    "import torch.nn.functional as F"
   ]
  },
  {
   "cell_type": "code",
   "execution_count": 85,
   "metadata": {},
   "outputs": [
    {
     "data": {
      "text/plain": [
       "(tensor([[[ 1.5674,  3.3550,  2.1269,  ...,  1.7712,  1.0232,  0.2149],\n",
       "          [ 0.9400, -0.0569, -1.6833,  ..., -0.0278, -0.3581,  0.4287],\n",
       "          [-0.1486, -0.5470,  1.2446,  ...,  0.0596,  0.6384,  0.4652],\n",
       "          ...,\n",
       "          [-0.0233,  0.1718, -0.8715,  ...,  0.9948, -0.8395, -1.8394],\n",
       "          [-1.6671, -1.5316,  0.6663,  ..., -0.9863, -0.5209, -1.8509],\n",
       "          [ 0.1499, -0.9797, -1.0295,  ...,  1.1925, -1.2845,  1.4688]],\n",
       " \n",
       "         [[-1.0955, -0.6625, -1.7931,  ..., -0.8457, -1.8101, -0.2930],\n",
       "          [-1.5159,  0.7875,  1.4526,  ..., -0.2835, -0.1012, -0.5280],\n",
       "          [ 1.0258,  0.0875,  0.5651,  ..., -0.1704, -1.3374,  1.0270],\n",
       "          ...,\n",
       "          [-0.9452,  0.4338, -0.2754,  ..., -0.2145,  0.5292, -0.6241],\n",
       "          [-0.7583,  1.2524,  0.2361,  ..., -0.5022, -0.3223, -0.3035],\n",
       "          [-0.6411, -1.2344, -1.7940,  ..., -0.4620,  1.0499,  0.4139]],\n",
       " \n",
       "         [[ 2.7460, -0.7254, -2.2387,  ..., -0.2388,  0.9874,  0.8271],\n",
       "          [-1.1311,  0.6453,  0.3540,  ...,  0.5716,  1.3770, -0.6225],\n",
       "          [-0.3216, -1.0523, -0.5128,  ...,  1.3846, -0.3573,  1.6573],\n",
       "          ...,\n",
       "          [-0.5498,  0.8528,  0.0778,  ...,  0.3360,  1.1558, -0.1492],\n",
       "          [-0.0135, -0.5340,  1.1373,  ...,  0.6235, -0.6526, -1.7668],\n",
       "          [-0.4292,  0.7611, -1.3077,  ...,  0.3017, -0.8100,  0.2697]],\n",
       " \n",
       "         ...,\n",
       " \n",
       "         [[ 1.3216,  0.9179,  0.2687,  ...,  1.1814,  0.7965, -0.0612],\n",
       "          [-0.0772,  0.3224, -1.7328,  ...,  0.3137, -0.2072, -0.3712],\n",
       "          [-0.3919,  0.0811,  0.6025,  ..., -0.6846,  1.2214,  0.8349],\n",
       "          ...,\n",
       "          [ 0.3167, -1.5799,  1.6778,  ..., -0.3217,  1.0182, -0.3153],\n",
       "          [-1.5651, -0.1932, -0.7983,  ...,  0.1147,  0.1993,  1.9114],\n",
       "          [-1.2882, -0.1756, -0.3713,  ..., -2.5575, -0.8625, -0.4511]],\n",
       " \n",
       "         [[-1.1136,  1.3504, -0.1561,  ..., -0.6670, -0.8467, -0.4956],\n",
       "          [-0.2144,  1.1613,  0.1256,  ...,  0.2416, -1.5293, -1.5591],\n",
       "          [-0.4145,  0.2213,  0.2644,  ...,  0.1733,  0.3504, -0.0204],\n",
       "          ...,\n",
       "          [ 0.1506,  0.9386,  0.9216,  ..., -1.2126, -0.4138,  0.6950],\n",
       "          [ 0.1655,  1.2525, -0.3580,  ...,  1.5518, -0.1047, -0.8738],\n",
       "          [ 1.4663, -0.2103, -0.6458,  ...,  0.6628, -0.2826,  0.2706]],\n",
       " \n",
       "         [[-0.7307,  0.7650,  0.9161,  ..., -0.3169,  0.2992, -0.4339],\n",
       "          [ 1.2601, -1.1451,  2.2318,  ...,  1.5187,  1.0418,  1.1046],\n",
       "          [ 0.1110, -0.5278,  1.2694,  ...,  0.0311, -1.1588,  0.2712],\n",
       "          ...,\n",
       "          [-0.0354, -0.6707, -0.3160,  ...,  0.8263, -0.0541, -0.9456],\n",
       "          [ 0.1706, -1.3313, -0.3962,  ...,  1.4471, -2.1836,  0.2257],\n",
       "          [ 1.9431,  0.5050,  0.6216,  ..., -0.5336,  0.3007, -0.1455]]],\n",
       "        grad_fn=<SubBackward0>),\n",
       " tensor([[[ 1.5596e-02,  1.3224e-02,  1.3710e-02,  ...,  1.5535e-02,\n",
       "            1.2345e-02,  1.5004e-02],\n",
       "          [-1.0857e-02, -3.5432e-03,  7.4376e-03,  ...,  5.0756e-03,\n",
       "           -5.5193e-05,  1.9172e-03],\n",
       "          [ 1.6727e-03,  9.4221e-03, -2.1551e-03,  ..., -1.1494e-02,\n",
       "            2.5487e-03,  1.1046e-03],\n",
       "          ...,\n",
       "          [ 6.4755e-03, -4.4993e-03, -7.1336e-03,  ..., -1.2968e-02,\n",
       "           -4.4823e-03,  1.8998e-03],\n",
       "          [ 1.6727e-03,  9.4221e-03, -2.1551e-03,  ..., -1.1494e-02,\n",
       "            2.5487e-03,  1.1046e-03],\n",
       "          [-1.0857e-02, -3.5432e-03,  7.4376e-03,  ...,  5.0756e-03,\n",
       "           -5.5193e-05,  1.9172e-03]],\n",
       " \n",
       "         [[ 1.4420e-02,  1.5621e-02,  1.5495e-02,  ...,  1.5623e-02,\n",
       "            1.5516e-02,  1.5472e-02],\n",
       "          [ 1.1521e-02,  1.1575e-02, -1.1655e-02,  ..., -3.9128e-03,\n",
       "            6.3046e-03,  4.2167e-03],\n",
       "          [ 1.0404e-02,  1.5634e-03,  6.1042e-03,  ..., -1.0785e-02,\n",
       "           -6.8790e-03, -1.0521e-02],\n",
       "          ...,\n",
       "          [ 7.2317e-03, -9.2469e-03,  3.1553e-03,  ...,  6.3715e-03,\n",
       "           -1.0957e-02, -1.2667e-02],\n",
       "          [ 1.0404e-02,  1.5634e-03,  6.1042e-03,  ..., -1.0785e-02,\n",
       "           -6.8790e-03, -1.0521e-02],\n",
       "          [ 1.1521e-02,  1.1575e-02, -1.1655e-02,  ..., -3.9128e-03,\n",
       "            6.3046e-03,  4.2167e-03]],\n",
       " \n",
       "         [[ 1.4973e-02,  1.5381e-02,  1.5582e-02,  ...,  1.4287e-02,\n",
       "            1.5363e-02,  1.4582e-02],\n",
       "          [-6.8948e-03, -2.7348e-03,  6.6129e-04,  ...,  6.5672e-03,\n",
       "            1.2338e-03,  3.2824e-03],\n",
       "          [-5.1424e-03, -6.6663e-03, -6.6113e-03,  ...,  1.4687e-03,\n",
       "            7.3336e-04,  1.3147e-03],\n",
       "          ...,\n",
       "          [ 1.1971e-02,  5.8499e-03,  3.2540e-03,  ...,  1.6739e-03,\n",
       "           -8.5085e-03, -1.9693e-03],\n",
       "          [-5.1424e-03, -6.6663e-03, -6.6113e-03,  ...,  1.4687e-03,\n",
       "            7.3336e-04,  1.3147e-03],\n",
       "          [-6.8948e-03, -2.7348e-03,  6.6129e-04,  ...,  6.5672e-03,\n",
       "            1.2338e-03,  3.2824e-03]],\n",
       " \n",
       "         ...,\n",
       " \n",
       "         [[ 1.5324e-02,  1.5227e-02,  1.5613e-02,  ...,  1.4368e-02,\n",
       "            1.5310e-02,  1.5618e-02],\n",
       "          [-3.2873e-03,  4.4807e-03, -8.9185e-03,  ...,  6.2459e-03,\n",
       "           -6.4706e-03, -8.6185e-03],\n",
       "          [-8.6794e-03,  6.0586e-03, -4.5001e-03,  ...,  8.5153e-03,\n",
       "            4.2740e-03,  7.5814e-03],\n",
       "          ...,\n",
       "          [ 4.4688e-03,  5.0389e-03,  1.4079e-02,  ...,  9.0399e-03,\n",
       "           -9.2420e-03, -1.3676e-02],\n",
       "          [-8.6794e-03,  6.0586e-03, -4.5001e-03,  ...,  8.5153e-03,\n",
       "            4.2740e-03,  7.5814e-03],\n",
       "          [-3.2873e-03,  4.4807e-03, -8.9185e-03,  ...,  6.2459e-03,\n",
       "           -6.4706e-03, -8.6185e-03]],\n",
       " \n",
       "         [[ 1.4658e-02,  1.5530e-02,  1.4577e-02,  ...,  1.5548e-02,\n",
       "            1.5616e-02,  1.5334e-02],\n",
       "          [ 1.0719e-03, -4.0758e-03,  2.1484e-04,  ..., -9.6544e-03,\n",
       "           -1.4326e-02, -6.3861e-03],\n",
       "          [-3.7539e-03, -1.2335e-02, -1.0452e-02,  ..., -9.5247e-05,\n",
       "            1.0956e-02,  4.7896e-03],\n",
       "          ...,\n",
       "          [ 2.2819e-03,  9.6793e-03,  8.6858e-04,  ...,  8.5056e-03,\n",
       "           -5.8999e-03, -9.6703e-03],\n",
       "          [-3.7539e-03, -1.2335e-02, -1.0452e-02,  ..., -9.5247e-05,\n",
       "            1.0956e-02,  4.7896e-03],\n",
       "          [ 1.0719e-03, -4.0758e-03,  2.1484e-04,  ..., -9.6544e-03,\n",
       "           -1.4326e-02, -6.3861e-03]],\n",
       " \n",
       "         [[ 1.5586e-02,  1.5215e-02,  1.5499e-02,  ...,  1.5375e-02,\n",
       "            1.5623e-02,  1.4196e-02],\n",
       "          [-1.5167e-02, -1.1595e-03,  3.1738e-03,  ..., -7.5703e-03,\n",
       "           -5.1698e-03, -1.9040e-03],\n",
       "          [ 1.4219e-02, -1.3620e-02, -1.0322e-02,  ...,  3.5116e-03,\n",
       "           -1.2099e-02,  6.4092e-04],\n",
       "          ...,\n",
       "          [-1.2775e-02,  4.0558e-03, -4.8584e-03,  ..., -7.3654e-03,\n",
       "            1.3231e-02,  3.9266e-03],\n",
       "          [ 1.4219e-02, -1.3620e-02, -1.0322e-02,  ...,  3.5116e-03,\n",
       "           -1.2099e-02,  6.4092e-04],\n",
       "          [-1.5167e-02, -1.1595e-03,  3.1738e-03,  ..., -7.5703e-03,\n",
       "           -5.1698e-03, -1.9040e-03]]], grad_fn=<FftC2RBackward0>))"
      ]
     },
     "execution_count": 85,
     "metadata": {},
     "output_type": "execute_result"
    },
    {
     "ename": "",
     "evalue": "",
     "output_type": "error",
     "traceback": [
      "\u001b[1;31m현재 셀 또는 이전 셀에서 코드를 실행하는 동안 Kernel이 충돌했습니다. \n",
      "\u001b[1;31m셀의 코드를 검토하여 가능한 오류 원인을 식별하세요. \n",
      "\u001b[1;31m자세한 내용을 보려면 <a href='https://aka.ms/vscodeJupyterKernelCrash'>여기</a>를 클릭하세요. \n",
      "\u001b[1;31m자세한 내용은 Jupyter <a href='command:jupyter.viewOutput'>로그</a>를 참조하세요."
     ]
    }
   ],
   "source": [
    "class FourierSelecter(nn.Module):\n",
    "    def __init__(self, input_len, alpha):\n",
    "        super(FourierSelecter, self).__init__()\n",
    "        \n",
    "        self.frequency_size = input_len//2 + 1 \n",
    "        self.hidden_size_factor = 1\n",
    "        self.scale = 0.02\n",
    "        self.alpha = alpha\n",
    "        self.w1 = nn.Parameter(self.scale * torch.randn(2, self.frequency_size, self.frequency_size * self.hidden_size_factor))\n",
    "        self.b1 = nn.Parameter(self.scale * torch.randn(2, self.frequency_size * self.hidden_size_factor))\n",
    "\n",
    "        self.w2 = nn.Parameter(self.scale * torch.randn(2, self.frequency_size * self.hidden_size_factor, self.frequency_size))\n",
    "        self.b2 = nn.Parameter(self.scale * torch.randn(2, self.frequency_size))\n",
    "\n",
    "        self.w3 = nn.Parameter(self.scale * torch.randn(2, self.frequency_size, self.frequency_size * self.hidden_size_factor))\n",
    "        self.b3 = nn.Parameter(self.scale * torch.randn(2, self.frequency_size * self.hidden_size_factor))\n",
    "\n",
    "    def forward(self, x):\n",
    "        if \"mps\" in str(x.device):\n",
    "            device = 'mps'\n",
    "            x = x.to(torch.device('mps'))\n",
    "        else:\n",
    "            device = None\n",
    "\n",
    "        xf = torch.fft.rfft(x, dim=1)\n",
    "        xf = xf.permute(0, 2, 1)\n",
    "\n",
    "        o1_real = F.relu(torch.einsum('bli,ii->bli', xf.real, self.w1[0]) - torch.einsum('bli,ii->bli', xf.imag, self.w1[1]) + self.b1[0])\n",
    "        o1_imag = F.relu(torch.einsum('bli,ii->bli', xf.imag, self.w1[0]) + torch.einsum('bli,ii->bli', xf.real, self.w1[1]) + self.b1[1])\n",
    "        z1 = torch.stack([o1_real, o1_imag], dim=-1)\n",
    "        # z1 = F.softshrink(z1, lambd=self.sparsity_threshold)\n",
    "\n",
    "        o2_real = F.relu(torch.einsum('bli,ii->bli', o1_real, self.w2[0]) - torch.einsum('bli,ii->bli', o1_imag, self.w2[1]) + self.b2[0])\n",
    "        o2_imag = F.relu(torch.einsum('bli,ii->bli', o1_imag, self.w2[0]) + torch.einsum('bli,ii->bli', o1_real, self.w2[1]) + self.b2[1])\n",
    "        z2 = torch.stack([o2_real, o2_imag], dim=-1)\n",
    "        # z2 = F.softshrink(z2, lambd=self.sparsity_threshold)\n",
    "\n",
    "        o3_real = F.relu(torch.einsum('bli,ii->bli', o2_real, self.w3[0]) - torch.einsum('bli,ii->bli', o2_imag, self.w3[1]) + self.b3[0])\n",
    "        o3_imag = F.relu(torch.einsum('bli,ii->bli', o2_imag, self.w3[0]) + torch.einsum('bli,ii->bli', o2_real, self.w3[1]) + self.b3[1])\n",
    "        z3 = torch.stack([o3_real, o3_imag], dim=-1)\n",
    "        # z3 = F.softshrink(z3, lambd=self.sparsity_threshold)\n",
    "\n",
    "        logits = torch.view_as_complex(z1+z2+z3)\n",
    "        logits = (logits * torch.conj(logits)).real.permute(0, 2, 1)\n",
    "\n",
    "        gumbels = -torch.empty_like(logits, memory_format=torch.legacy_contiguous_format).exponential_().log()  # ~Gumbel(0,1)\n",
    "        \n",
    "        y_soft = F.softmax((logits + gumbels) / 0.5, dim=1)\n",
    "        indices = y_soft.topk(int(self.frequency_size * (1-self.alpha)), dim=1, largest=False).indices\n",
    "        masked = y_soft.scatter_(dim=1, index=indices, value=0.)\n",
    "        x_masked = (masked - y_soft).detach() + y_soft\n",
    "        \n",
    "        x_inv = torch.fft.irfft(x_masked, dim=1)\n",
    "        x_var = x - x_inv\n",
    "\n",
    "        return x_var, x_inv\n",
    "x = torch.randn((64, 128, 24))\n",
    "fs = FourierSelecter(128, 0.2)\n",
    "fs(x)"
   ]
  },
  {
   "cell_type": "code",
   "execution_count": 20,
   "metadata": {},
   "outputs": [
    {
     "name": "stdout",
     "output_type": "stream",
     "text": [
      "torch.Size([64, 65, 24])\n",
      "torch.Size([64, 24, 65])\n"
     ]
    },
    {
     "ename": "RuntimeError",
     "evalue": "einsum(): subscript i is repeated for operand 1 but the sizes don't match, 16640 != 65",
     "output_type": "error",
     "traceback": [
      "\u001b[0;31m---------------------------------------------------------------------------\u001b[0m",
      "\u001b[0;31mRuntimeError\u001b[0m                              Traceback (most recent call last)",
      "Cell \u001b[0;32mIn[20], line 2\u001b[0m\n\u001b[1;32m      1\u001b[0m fs \u001b[38;5;241m=\u001b[39m FourierSelecter()\n\u001b[0;32m----> 2\u001b[0m \u001b[43mfs\u001b[49m\u001b[43m(\u001b[49m\u001b[43mx\u001b[49m\u001b[43m)\u001b[49m\n",
      "File \u001b[0;32m~/miniforge3/envs/pytorch/lib/python3.10/site-packages/torch/nn/modules/module.py:1501\u001b[0m, in \u001b[0;36mModule._call_impl\u001b[0;34m(self, *args, **kwargs)\u001b[0m\n\u001b[1;32m   1496\u001b[0m \u001b[38;5;66;03m# If we don't have any hooks, we want to skip the rest of the logic in\u001b[39;00m\n\u001b[1;32m   1497\u001b[0m \u001b[38;5;66;03m# this function, and just call forward.\u001b[39;00m\n\u001b[1;32m   1498\u001b[0m \u001b[38;5;28;01mif\u001b[39;00m \u001b[38;5;129;01mnot\u001b[39;00m (\u001b[38;5;28mself\u001b[39m\u001b[38;5;241m.\u001b[39m_backward_hooks \u001b[38;5;129;01mor\u001b[39;00m \u001b[38;5;28mself\u001b[39m\u001b[38;5;241m.\u001b[39m_backward_pre_hooks \u001b[38;5;129;01mor\u001b[39;00m \u001b[38;5;28mself\u001b[39m\u001b[38;5;241m.\u001b[39m_forward_hooks \u001b[38;5;129;01mor\u001b[39;00m \u001b[38;5;28mself\u001b[39m\u001b[38;5;241m.\u001b[39m_forward_pre_hooks\n\u001b[1;32m   1499\u001b[0m         \u001b[38;5;129;01mor\u001b[39;00m _global_backward_pre_hooks \u001b[38;5;129;01mor\u001b[39;00m _global_backward_hooks\n\u001b[1;32m   1500\u001b[0m         \u001b[38;5;129;01mor\u001b[39;00m _global_forward_hooks \u001b[38;5;129;01mor\u001b[39;00m _global_forward_pre_hooks):\n\u001b[0;32m-> 1501\u001b[0m     \u001b[38;5;28;01mreturn\u001b[39;00m \u001b[43mforward_call\u001b[49m\u001b[43m(\u001b[49m\u001b[38;5;241;43m*\u001b[39;49m\u001b[43margs\u001b[49m\u001b[43m,\u001b[49m\u001b[43m \u001b[49m\u001b[38;5;241;43m*\u001b[39;49m\u001b[38;5;241;43m*\u001b[39;49m\u001b[43mkwargs\u001b[49m\u001b[43m)\u001b[49m\n\u001b[1;32m   1502\u001b[0m \u001b[38;5;66;03m# Do not call functions when jit is used\u001b[39;00m\n\u001b[1;32m   1503\u001b[0m full_backward_hooks, non_full_backward_hooks \u001b[38;5;241m=\u001b[39m [], []\n",
      "Cell \u001b[0;32mIn[19], line 29\u001b[0m, in \u001b[0;36mFourierSelecter.forward\u001b[0;34m(self, x)\u001b[0m\n\u001b[1;32m     27\u001b[0m x \u001b[38;5;241m=\u001b[39m x\u001b[38;5;241m.\u001b[39mpermute(\u001b[38;5;241m0\u001b[39m, \u001b[38;5;241m2\u001b[39m, \u001b[38;5;241m1\u001b[39m)\n\u001b[1;32m     28\u001b[0m \u001b[38;5;28mprint\u001b[39m(x\u001b[38;5;241m.\u001b[39mshape)\n\u001b[0;32m---> 29\u001b[0m o1_real \u001b[38;5;241m=\u001b[39m F\u001b[38;5;241m.\u001b[39mrelu(\u001b[43mtorch\u001b[49m\u001b[38;5;241;43m.\u001b[39;49m\u001b[43meinsum\u001b[49m\u001b[43m(\u001b[49m\u001b[38;5;124;43m'\u001b[39;49m\u001b[38;5;124;43mbli,ii->bli\u001b[39;49m\u001b[38;5;124;43m'\u001b[39;49m\u001b[43m,\u001b[49m\u001b[43m \u001b[49m\u001b[43mx\u001b[49m\u001b[38;5;241;43m.\u001b[39;49m\u001b[43mreal\u001b[49m\u001b[43m,\u001b[49m\u001b[43m \u001b[49m\u001b[38;5;28;43mself\u001b[39;49m\u001b[38;5;241;43m.\u001b[39;49m\u001b[43mw1\u001b[49m\u001b[43m[\u001b[49m\u001b[38;5;241;43m0\u001b[39;49m\u001b[43m]\u001b[49m\u001b[43m)\u001b[49m \u001b[38;5;241m-\u001b[39m torch\u001b[38;5;241m.\u001b[39meinsum(\u001b[38;5;124m'\u001b[39m\u001b[38;5;124mbli,ii->bli\u001b[39m\u001b[38;5;124m'\u001b[39m, x\u001b[38;5;241m.\u001b[39mimag, \u001b[38;5;28mself\u001b[39m\u001b[38;5;241m.\u001b[39mw1[\u001b[38;5;241m1\u001b[39m]) \u001b[38;5;241m+\u001b[39m \u001b[38;5;28mself\u001b[39m\u001b[38;5;241m.\u001b[39mb1[\u001b[38;5;241m0\u001b[39m])\n\u001b[1;32m     30\u001b[0m o1_imag \u001b[38;5;241m=\u001b[39m F\u001b[38;5;241m.\u001b[39mrelu(torch\u001b[38;5;241m.\u001b[39meinsum(\u001b[38;5;124m'\u001b[39m\u001b[38;5;124mbli,ii->bli\u001b[39m\u001b[38;5;124m'\u001b[39m, x\u001b[38;5;241m.\u001b[39mimag, \u001b[38;5;28mself\u001b[39m\u001b[38;5;241m.\u001b[39mw1[\u001b[38;5;241m0\u001b[39m]) \u001b[38;5;241m+\u001b[39m torch\u001b[38;5;241m.\u001b[39meinsum(\u001b[38;5;124m'\u001b[39m\u001b[38;5;124mbli,ii->bli\u001b[39m\u001b[38;5;124m'\u001b[39m, x\u001b[38;5;241m.\u001b[39mreal, \u001b[38;5;28mself\u001b[39m\u001b[38;5;241m.\u001b[39mw1[\u001b[38;5;241m1\u001b[39m]) \u001b[38;5;241m+\u001b[39m \u001b[38;5;28mself\u001b[39m\u001b[38;5;241m.\u001b[39mb1[\u001b[38;5;241m1\u001b[39m])\n\u001b[1;32m     31\u001b[0m z1 \u001b[38;5;241m=\u001b[39m torch\u001b[38;5;241m.\u001b[39mstack([o1_real, o1_imag], dim\u001b[38;5;241m=\u001b[39m\u001b[38;5;241m-\u001b[39m\u001b[38;5;241m1\u001b[39m)\n",
      "File \u001b[0;32m~/miniforge3/envs/pytorch/lib/python3.10/site-packages/torch/functional.py:378\u001b[0m, in \u001b[0;36meinsum\u001b[0;34m(*args)\u001b[0m\n\u001b[1;32m    373\u001b[0m     \u001b[38;5;28;01mreturn\u001b[39;00m einsum(equation, \u001b[38;5;241m*\u001b[39m_operands)\n\u001b[1;32m    375\u001b[0m \u001b[38;5;28;01mif\u001b[39;00m \u001b[38;5;28mlen\u001b[39m(operands) \u001b[38;5;241m<\u001b[39m\u001b[38;5;241m=\u001b[39m \u001b[38;5;241m2\u001b[39m \u001b[38;5;129;01mor\u001b[39;00m \u001b[38;5;129;01mnot\u001b[39;00m opt_einsum\u001b[38;5;241m.\u001b[39menabled:\n\u001b[1;32m    376\u001b[0m     \u001b[38;5;66;03m# the path for contracting 0 or 1 time(s) is already optimized\u001b[39;00m\n\u001b[1;32m    377\u001b[0m     \u001b[38;5;66;03m# or the user has disabled using opt_einsum\u001b[39;00m\n\u001b[0;32m--> 378\u001b[0m     \u001b[38;5;28;01mreturn\u001b[39;00m \u001b[43m_VF\u001b[49m\u001b[38;5;241;43m.\u001b[39;49m\u001b[43meinsum\u001b[49m\u001b[43m(\u001b[49m\u001b[43mequation\u001b[49m\u001b[43m,\u001b[49m\u001b[43m \u001b[49m\u001b[43moperands\u001b[49m\u001b[43m)\u001b[49m  \u001b[38;5;66;03m# type: ignore[attr-defined]\u001b[39;00m\n\u001b[1;32m    380\u001b[0m path \u001b[38;5;241m=\u001b[39m \u001b[38;5;28;01mNone\u001b[39;00m\n\u001b[1;32m    381\u001b[0m \u001b[38;5;28;01mif\u001b[39;00m opt_einsum\u001b[38;5;241m.\u001b[39mis_available():\n",
      "\u001b[0;31mRuntimeError\u001b[0m: einsum(): subscript i is repeated for operand 1 but the sizes don't match, 16640 != 65"
     ]
    }
   ],
   "source": [
    "fs = FourierSelecter()\n",
    "fs(x)"
   ]
  },
  {
   "cell_type": "code",
   "execution_count": 2,
   "metadata": {},
   "outputs": [
    {
     "data": {
      "text/plain": [
       "tensor([[[-0.1373],\n",
       "         [-0.5983],\n",
       "         [ 0.7446],\n",
       "         [-1.3609],\n",
       "         [ 0.6735],\n",
       "         [ 0.7368],\n",
       "         [-0.3499],\n",
       "         [ 0.0016],\n",
       "         [-0.5404],\n",
       "         [ 0.8356]]])"
      ]
     },
     "execution_count": 2,
     "metadata": {},
     "output_type": "execute_result"
    }
   ],
   "source": [
    "import torch\n",
    "x = torch.randn((1, 10, 1))\n",
    "x"
   ]
  }
 ],
 "metadata": {
  "kernelspec": {
   "display_name": "pytorch",
   "language": "python",
   "name": "python3"
  },
  "language_info": {
   "codemirror_mode": {
    "name": "ipython",
    "version": 3
   },
   "file_extension": ".py",
   "mimetype": "text/x-python",
   "name": "python",
   "nbconvert_exporter": "python",
   "pygments_lexer": "ipython3",
   "version": "3.10.14"
  }
 },
 "nbformat": 4,
 "nbformat_minor": 2
}
